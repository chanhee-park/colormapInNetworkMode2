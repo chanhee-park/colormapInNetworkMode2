{
 "cells": [
  {
   "cell_type": "code",
   "execution_count": 4,
   "metadata": {},
   "outputs": [],
   "source": [
    "import numpy as np\n",
    "import matplotlib.pyplot as plt"
   ]
  },
  {
   "cell_type": "code",
   "execution_count": 12,
   "metadata": {},
   "outputs": [
    {
     "name": "stdout",
     "output_type": "stream",
     "text": [
      "(0.0, 0.0, 0.5, 1.0)\n",
      "(0.0, 0.0, 0.5, 1.0)\n",
      "(0.49019607843137247, 1.0, 0.47754585705249841, 1.0)\n",
      "(0.0, 0.0, 0.517825311942959, 1.0)\n",
      "(0.0, 0.0, 0.67825311942958999, 1.0)\n"
     ]
    }
   ],
   "source": [
    "cmap = matplotlib.cm.get_cmap('jet')\n",
    "\n",
    "norm = matplotlib.colors.Normalize(vmin=0.0, vmax=99.0)\n",
    "\n",
    "print(norm(15.0)) # 0.5\n",
    "rgba = cmap(-1)\n",
    "print(rgba)\n",
    "\n",
    "rgba = cmap(0)\n",
    "print(rgba)\n",
    "\n",
    "rgba = cmap(0.5)\n",
    "print(rgba)\n",
    "\n",
    "rgba = cmap(1)\n",
    "print(rgba)\n",
    "\n",
    "rgba = cmap(10)\n",
    "print(rgba)\n"
   ]
  },
  {
   "cell_type": "code",
   "execution_count": null,
   "metadata": {},
   "outputs": [],
   "source": []
  }
 ],
 "metadata": {
  "kernelspec": {
   "display_name": "Python 3",
   "language": "python",
   "name": "python3"
  },
  "language_info": {
   "codemirror_mode": {
    "name": "ipython",
    "version": 3
   },
   "file_extension": ".py",
   "mimetype": "text/x-python",
   "name": "python",
   "nbconvert_exporter": "python",
   "pygments_lexer": "ipython3",
   "version": "3.6.5"
  }
 },
 "nbformat": 4,
 "nbformat_minor": 2
}
